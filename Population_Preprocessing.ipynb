{
 "cells": [
  {
   "cell_type": "code",
   "execution_count": 1,
   "metadata": {},
   "outputs": [],
   "source": [
    "import warnings\n",
    "warnings.filterwarnings('ignore')\n",
    "\n",
    "import os\n",
    "import glob\n",
    "\n",
    "import pandas as pd\n",
    "import numpy as np\n",
    "\n",
    "from tqdm._tqdm_notebook import tqdm_notebook\n",
    "tqdm_notebook.pandas()"
   ]
  },
  {
   "cell_type": "markdown",
   "metadata": {},
   "source": [
    "## 01 데이터 병합 및 전처리"
   ]
  },
  {
   "cell_type": "markdown",
   "metadata": {},
   "source": [
    "### 연령 기준 설정"
   ]
  },
  {
   "cell_type": "code",
   "execution_count": 2,
   "metadata": {},
   "outputs": [],
   "source": [
    "# 해당연도 출생아\n",
    "birth_age = '0세'\n",
    "\n",
    "# 유소년 인구 기준 : 14세 이하\n",
    "yount_max_age = 14\n",
    "youth_people_age = ['{}세'.format(age) for age in range(0, yount_max_age + 1)]\n",
    "\n",
    "# 가임 여성 인구 수 : 20세 ~ 39세\n",
    "max_young_women_age = 39\n",
    "young_women_age = ['{}세'.format(age) for age in range(20, max_young_women_age + 1)]\n",
    "\n",
    "# 고령인구 수 : 65세 이상\n",
    "old_min_age = 65\n",
    "old_people_age = ['{}세'.format(age) for age in range(old_min_age, 100)]\n",
    "old_people_age.append('100세 이상')"
   ]
  },
  {
   "cell_type": "markdown",
   "metadata": {},
   "source": [
    "### 인구데이터 병합"
   ]
  },
  {
   "cell_type": "code",
   "execution_count": 3,
   "metadata": {},
   "outputs": [],
   "source": [
    "def data_merge(file_name):\n",
    "    data_files = glob.glob(f'./Data/01 RAW/*{file_name}*.csv')\n",
    "    target_file = glob.glob(f'./Data/01 RAW/*{file_name}_전체.csv')\n",
    "    \n",
    "    data_files.remove(target_file[0])\n",
    "    data_files.sort()\n",
    "\n",
    "    df = pd.DataFrame()\n",
    "\n",
    "    for file in data_files:\n",
    "        tmp_df = pd.read_csv(file, encoding= 'cp949')\n",
    "        df = pd.concat([df, tmp_df], axis= 0)\n",
    "\n",
    "    df = df.loc[df['연령별'] != '연령별']\n",
    "    df = df.loc[df['연령별'] != '계']\n",
    "    df.reset_index(inplace= True, drop= True)\n",
    "\n",
    "    df.dropna(inplace= True)            # 추후에 수정 해야함, 광역시의 경우 앞에 광역시명 붙이기\n",
    "\n",
    "    df = df.astype({\n",
    "    '2012' : np.int64, \n",
    "    '2013' : np.int64, \n",
    "    '2014' : np.int64, \n",
    "    '2015' : np.int64, \n",
    "    '2016' : np.int64, \n",
    "    '2017' : np.int64,\n",
    "    '2018' : np.int64, \n",
    "    '2019' : np.int64, \n",
    "    '2020' : np.int64, \n",
    "    '2021' : np.int64, \n",
    "    '2022' : np.int64\n",
    "})\n",
    "\n",
    "    df.to_csv('./Data/01 RAW/주민등록인구(행정구역별)_{}_전체.csv'.format(file_name), index= False, encoding= 'utf-8-sig')\n",
    "    return df"
   ]
  },
  {
   "cell_type": "code",
   "execution_count": 4,
   "metadata": {},
   "outputs": [
    {
     "name": "stdout",
     "output_type": "stream",
     "text": [
      "Index(['행정구역(시군구)별', '연령별', '2012', '2013', '2014', '2015', '2016', '2017',\n",
      "       '2018', '2019', '2020', '2021', '2022'],\n",
      "      dtype='object')\n",
      "Index(['행정구역(시군구)별', '연령별', '2012', '2013', '2014', '2015', '2016', '2017',\n",
      "       '2018', '2019', '2020', '2021', '2022'],\n",
      "      dtype='object')\n",
      "Index(['행정구역(시군구)별', '연령별', '2012', '2013', '2014', '2015', '2016', '2017',\n",
      "       '2018', '2019', '2020', '2021', '2022'],\n",
      "      dtype='object')\n"
     ]
    }
   ],
   "source": [
    "# 총인구\n",
    "total_df = data_merge('총인구')\n",
    "print(total_df.columns)\n",
    "\n",
    "# 남자\n",
    "men_df = data_merge('남자')\n",
    "print(men_df.columns)\n",
    "\n",
    "# 여자\n",
    "women_df = data_merge('여자')\n",
    "print(women_df.columns)"
   ]
  },
  {
   "cell_type": "markdown",
   "metadata": {},
   "source": [
    "### 각 기준 별 인구 데이터 추출"
   ]
  },
  {
   "cell_type": "code",
   "execution_count": 5,
   "metadata": {},
   "outputs": [
    {
     "data": {
      "text/html": [
       "<div>\n",
       "<style scoped>\n",
       "    .dataframe tbody tr th:only-of-type {\n",
       "        vertical-align: middle;\n",
       "    }\n",
       "\n",
       "    .dataframe tbody tr th {\n",
       "        vertical-align: top;\n",
       "    }\n",
       "\n",
       "    .dataframe thead th {\n",
       "        text-align: right;\n",
       "    }\n",
       "</style>\n",
       "<table border=\"1\" class=\"dataframe\">\n",
       "  <thead>\n",
       "    <tr style=\"text-align: right;\">\n",
       "      <th></th>\n",
       "      <th>2012</th>\n",
       "      <th>2013</th>\n",
       "      <th>2014</th>\n",
       "      <th>2015</th>\n",
       "      <th>2016</th>\n",
       "      <th>2017</th>\n",
       "      <th>2018</th>\n",
       "      <th>2019</th>\n",
       "      <th>2020</th>\n",
       "      <th>2021</th>\n",
       "      <th>2022</th>\n",
       "    </tr>\n",
       "    <tr>\n",
       "      <th>행정구역(시군구)별</th>\n",
       "      <th></th>\n",
       "      <th></th>\n",
       "      <th></th>\n",
       "      <th></th>\n",
       "      <th></th>\n",
       "      <th></th>\n",
       "      <th></th>\n",
       "      <th></th>\n",
       "      <th></th>\n",
       "      <th></th>\n",
       "      <th></th>\n",
       "    </tr>\n",
       "  </thead>\n",
       "  <tbody>\n",
       "    <tr>\n",
       "      <th>가평군</th>\n",
       "      <td>6122</td>\n",
       "      <td>6035</td>\n",
       "      <td>5808</td>\n",
       "      <td>5772</td>\n",
       "      <td>5771</td>\n",
       "      <td>5795</td>\n",
       "      <td>5702</td>\n",
       "      <td>5471</td>\n",
       "      <td>5265</td>\n",
       "      <td>5054</td>\n",
       "      <td>4913</td>\n",
       "    </tr>\n",
       "    <tr>\n",
       "      <th>강남구</th>\n",
       "      <td>100087</td>\n",
       "      <td>97967</td>\n",
       "      <td>99540</td>\n",
       "      <td>97733</td>\n",
       "      <td>94421</td>\n",
       "      <td>90806</td>\n",
       "      <td>87491</td>\n",
       "      <td>85959</td>\n",
       "      <td>82908</td>\n",
       "      <td>78992</td>\n",
       "      <td>76222</td>\n",
       "    </tr>\n",
       "    <tr>\n",
       "      <th>강동구</th>\n",
       "      <td>75845</td>\n",
       "      <td>73979</td>\n",
       "      <td>71972</td>\n",
       "      <td>67952</td>\n",
       "      <td>65184</td>\n",
       "      <td>63570</td>\n",
       "      <td>62126</td>\n",
       "      <td>63076</td>\n",
       "      <td>67281</td>\n",
       "      <td>66827</td>\n",
       "      <td>64911</td>\n",
       "    </tr>\n",
       "    <tr>\n",
       "      <th>강릉시</th>\n",
       "      <td>25821</td>\n",
       "      <td>25004</td>\n",
       "      <td>24290</td>\n",
       "      <td>23631</td>\n",
       "      <td>23098</td>\n",
       "      <td>22846</td>\n",
       "      <td>22426</td>\n",
       "      <td>22212</td>\n",
       "      <td>21679</td>\n",
       "      <td>21114</td>\n",
       "      <td>20346</td>\n",
       "    </tr>\n",
       "    <tr>\n",
       "      <th>강북구</th>\n",
       "      <td>50159</td>\n",
       "      <td>48191</td>\n",
       "      <td>46487</td>\n",
       "      <td>45123</td>\n",
       "      <td>44053</td>\n",
       "      <td>43511</td>\n",
       "      <td>42717</td>\n",
       "      <td>41484</td>\n",
       "      <td>40300</td>\n",
       "      <td>38643</td>\n",
       "      <td>37591</td>\n",
       "    </tr>\n",
       "  </tbody>\n",
       "</table>\n",
       "</div>"
      ],
      "text/plain": [
       "              2012   2013   2014   2015   2016   2017   2018   2019   2020  \\\n",
       "행정구역(시군구)별                                                                   \n",
       "가평군           6122   6035   5808   5772   5771   5795   5702   5471   5265   \n",
       "강남구         100087  97967  99540  97733  94421  90806  87491  85959  82908   \n",
       "강동구          75845  73979  71972  67952  65184  63570  62126  63076  67281   \n",
       "강릉시          25821  25004  24290  23631  23098  22846  22426  22212  21679   \n",
       "강북구          50159  48191  46487  45123  44053  43511  42717  41484  40300   \n",
       "\n",
       "             2021   2022  \n",
       "행정구역(시군구)별                \n",
       "가평군          5054   4913  \n",
       "강남구         78992  76222  \n",
       "강동구         66827  64911  \n",
       "강릉시         21114  20346  \n",
       "강북구         38643  37591  "
      ]
     },
     "execution_count": 5,
     "metadata": {},
     "output_type": "execute_result"
    }
   ],
   "source": [
    "# 가임여성 인구수\n",
    "young_women_df = women_df[women_df['연령별'].isin(young_women_age)]\n",
    "young_women_df = young_women_df.groupby('행정구역(시군구)별').sum()\n",
    "young_women_df = young_women_df.drop(['연령별'], axis= 1)\n",
    "young_women_df.head()"
   ]
  },
  {
   "cell_type": "code",
   "execution_count": 6,
   "metadata": {},
   "outputs": [
    {
     "data": {
      "text/html": [
       "<div>\n",
       "<style scoped>\n",
       "    .dataframe tbody tr th:only-of-type {\n",
       "        vertical-align: middle;\n",
       "    }\n",
       "\n",
       "    .dataframe tbody tr th {\n",
       "        vertical-align: top;\n",
       "    }\n",
       "\n",
       "    .dataframe thead th {\n",
       "        text-align: right;\n",
       "    }\n",
       "</style>\n",
       "<table border=\"1\" class=\"dataframe\">\n",
       "  <thead>\n",
       "    <tr style=\"text-align: right;\">\n",
       "      <th></th>\n",
       "      <th>행정구역(시군구)별</th>\n",
       "      <th>2012</th>\n",
       "      <th>2013</th>\n",
       "      <th>2014</th>\n",
       "      <th>2015</th>\n",
       "      <th>2016</th>\n",
       "      <th>2017</th>\n",
       "      <th>2018</th>\n",
       "      <th>2019</th>\n",
       "      <th>2020</th>\n",
       "      <th>2021</th>\n",
       "      <th>2022</th>\n",
       "    </tr>\n",
       "  </thead>\n",
       "  <tbody>\n",
       "    <tr>\n",
       "      <th>0</th>\n",
       "      <td>가평군</td>\n",
       "      <td>12076</td>\n",
       "      <td>12518</td>\n",
       "      <td>12874</td>\n",
       "      <td>13350</td>\n",
       "      <td>13569</td>\n",
       "      <td>14271</td>\n",
       "      <td>14802</td>\n",
       "      <td>15423</td>\n",
       "      <td>16324</td>\n",
       "      <td>17035</td>\n",
       "      <td>17841</td>\n",
       "    </tr>\n",
       "    <tr>\n",
       "      <th>1</th>\n",
       "      <td>강남구</td>\n",
       "      <td>50206</td>\n",
       "      <td>53300</td>\n",
       "      <td>57291</td>\n",
       "      <td>60191</td>\n",
       "      <td>61822</td>\n",
       "      <td>64946</td>\n",
       "      <td>66957</td>\n",
       "      <td>70896</td>\n",
       "      <td>74959</td>\n",
       "      <td>78078</td>\n",
       "      <td>81564</td>\n",
       "    </tr>\n",
       "    <tr>\n",
       "      <th>2</th>\n",
       "      <td>강동구</td>\n",
       "      <td>44850</td>\n",
       "      <td>47722</td>\n",
       "      <td>50167</td>\n",
       "      <td>51848</td>\n",
       "      <td>53121</td>\n",
       "      <td>56080</td>\n",
       "      <td>58669</td>\n",
       "      <td>63341</td>\n",
       "      <td>69903</td>\n",
       "      <td>73943</td>\n",
       "      <td>78191</td>\n",
       "    </tr>\n",
       "    <tr>\n",
       "      <th>3</th>\n",
       "      <td>강릉시</td>\n",
       "      <td>33639</td>\n",
       "      <td>34855</td>\n",
       "      <td>36009</td>\n",
       "      <td>36924</td>\n",
       "      <td>37679</td>\n",
       "      <td>39784</td>\n",
       "      <td>41214</td>\n",
       "      <td>43113</td>\n",
       "      <td>45484</td>\n",
       "      <td>47318</td>\n",
       "      <td>49575</td>\n",
       "    </tr>\n",
       "    <tr>\n",
       "      <th>4</th>\n",
       "      <td>강북구</td>\n",
       "      <td>46147</td>\n",
       "      <td>48465</td>\n",
       "      <td>50755</td>\n",
       "      <td>52503</td>\n",
       "      <td>53964</td>\n",
       "      <td>56437</td>\n",
       "      <td>58103</td>\n",
       "      <td>60474</td>\n",
       "      <td>63313</td>\n",
       "      <td>64218</td>\n",
       "      <td>66170</td>\n",
       "    </tr>\n",
       "  </tbody>\n",
       "</table>\n",
       "</div>"
      ],
      "text/plain": [
       "  행정구역(시군구)별   2012   2013   2014   2015   2016   2017   2018   2019   2020  \\\n",
       "0        가평군  12076  12518  12874  13350  13569  14271  14802  15423  16324   \n",
       "1        강남구  50206  53300  57291  60191  61822  64946  66957  70896  74959   \n",
       "2        강동구  44850  47722  50167  51848  53121  56080  58669  63341  69903   \n",
       "3        강릉시  33639  34855  36009  36924  37679  39784  41214  43113  45484   \n",
       "4        강북구  46147  48465  50755  52503  53964  56437  58103  60474  63313   \n",
       "\n",
       "    2021   2022  \n",
       "0  17035  17841  \n",
       "1  78078  81564  \n",
       "2  73943  78191  \n",
       "3  47318  49575  \n",
       "4  64218  66170  "
      ]
     },
     "execution_count": 6,
     "metadata": {},
     "output_type": "execute_result"
    }
   ],
   "source": [
    "# 고령인구\n",
    "old_people_df = total_df[total_df['연령별'].isin(old_people_age)]\n",
    "old_people_df = old_people_df.groupby('행정구역(시군구)별').sum()\n",
    "old_people_df = old_people_df.drop(['연령별'], axis= 1)\n",
    "old_people_df.reset_index(inplace= True, drop= False)\n",
    "old_people_df.head()"
   ]
  },
  {
   "cell_type": "markdown",
   "metadata": {},
   "source": [
    "## 02 시계열 클러스터분석"
   ]
  },
  {
   "cell_type": "code",
   "execution_count": 7,
   "metadata": {},
   "outputs": [],
   "source": [
    "index_values = old_people_df['행정구역(시군구)별'].values.tolist()\n",
    "old_people_timeseries = old_people_df[[str(year) for year in range(2012, 2023)]].values.tolist()\n",
    "young_women_timeseries = young_women_df[[str(year) for year in range(2012, 2023)]].values.tolist()\n",
    "\n",
    "time_series_data = list()\n",
    "for young, old in zip(old_people_timeseries, young_women_timeseries):\n",
    "    time_series_data.append([young, old])"
   ]
  },
  {
   "cell_type": "code",
   "execution_count": 8,
   "metadata": {},
   "outputs": [],
   "source": [
    "from tslearn.clustering import TimeSeriesKMeans"
   ]
  },
  {
   "cell_type": "code",
   "execution_count": 9,
   "metadata": {},
   "outputs": [
    {
     "name": "stdout",
     "output_type": "stream",
     "text": [
      "index 개수: 233 / 클러스터 개수: 233\n"
     ]
    }
   ],
   "source": [
    "km = TimeSeriesKMeans(n_clusters=4, verbose=False, random_state=42, n_jobs=-1)\n",
    "y_pred = km.fit_predict(time_series_data)\n",
    "\n",
    "print('index 개수: {} / 클러스터 개수: {}'.format(len(index_values), len(y_pred)))"
   ]
  },
  {
   "cell_type": "code",
   "execution_count": 10,
   "metadata": {},
   "outputs": [
    {
     "data": {
      "text/html": [
       "<div>\n",
       "<style scoped>\n",
       "    .dataframe tbody tr th:only-of-type {\n",
       "        vertical-align: middle;\n",
       "    }\n",
       "\n",
       "    .dataframe tbody tr th {\n",
       "        vertical-align: top;\n",
       "    }\n",
       "\n",
       "    .dataframe thead th {\n",
       "        text-align: right;\n",
       "    }\n",
       "</style>\n",
       "<table border=\"1\" class=\"dataframe\">\n",
       "  <thead>\n",
       "    <tr style=\"text-align: right;\">\n",
       "      <th></th>\n",
       "      <th>city</th>\n",
       "      <th>cluster_n</th>\n",
       "    </tr>\n",
       "  </thead>\n",
       "  <tbody>\n",
       "    <tr>\n",
       "      <th>0</th>\n",
       "      <td>가평군</td>\n",
       "      <td>0</td>\n",
       "    </tr>\n",
       "    <tr>\n",
       "      <th>1</th>\n",
       "      <td>강남구</td>\n",
       "      <td>1</td>\n",
       "    </tr>\n",
       "    <tr>\n",
       "      <th>2</th>\n",
       "      <td>강동구</td>\n",
       "      <td>1</td>\n",
       "    </tr>\n",
       "    <tr>\n",
       "      <th>3</th>\n",
       "      <td>강릉시</td>\n",
       "      <td>3</td>\n",
       "    </tr>\n",
       "    <tr>\n",
       "      <th>4</th>\n",
       "      <td>강북구</td>\n",
       "      <td>3</td>\n",
       "    </tr>\n",
       "  </tbody>\n",
       "</table>\n",
       "</div>"
      ],
      "text/plain": [
       "  city  cluster_n\n",
       "0  가평군          0\n",
       "1  강남구          1\n",
       "2  강동구          1\n",
       "3  강릉시          3\n",
       "4  강북구          3"
      ]
     },
     "execution_count": 10,
     "metadata": {},
     "output_type": "execute_result"
    }
   ],
   "source": [
    "result_list = list()\n",
    "for index, num in zip(index_values, y_pred):\n",
    "    result_list.append([index, num])\n",
    "\n",
    "result_df = pd.DataFrame(result_list, columns= ['city', 'cluster_n'])\n",
    "result_df.head()"
   ]
  },
  {
   "cell_type": "code",
   "execution_count": 11,
   "metadata": {},
   "outputs": [
    {
     "data": {
      "text/plain": [
       "cluster_n\n",
       "0    112\n",
       "3     74\n",
       "1     37\n",
       "2     10\n",
       "Name: count, dtype: int64"
      ]
     },
     "execution_count": 11,
     "metadata": {},
     "output_type": "execute_result"
    }
   ],
   "source": [
    "result_df['cluster_n'].value_counts()"
   ]
  },
  {
   "cell_type": "code",
   "execution_count": null,
   "metadata": {},
   "outputs": [],
   "source": []
  }
 ],
 "metadata": {
  "kernelspec": {
   "display_name": "population_env",
   "language": "python",
   "name": "python3"
  },
  "language_info": {
   "codemirror_mode": {
    "name": "ipython",
    "version": 3
   },
   "file_extension": ".py",
   "mimetype": "text/x-python",
   "name": "python",
   "nbconvert_exporter": "python",
   "pygments_lexer": "ipython3",
   "version": "3.11.4"
  },
  "orig_nbformat": 4
 },
 "nbformat": 4,
 "nbformat_minor": 2
}
